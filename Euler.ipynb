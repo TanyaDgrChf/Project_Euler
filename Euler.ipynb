{
 "cells": [
  {
   "cell_type": "code",
   "execution_count": 42,
   "metadata": {},
   "outputs": [
    {
     "name": "stdout",
     "output_type": "stream",
     "text": [
      "233168\n"
     ]
    }
   ],
   "source": [
    "#Problem 1:\n",
    "import math\n",
    "#multiples of 5 = 5 + 10 + ... + 995 + 1000\n",
    "#Sum of multiples of 5:\n",
    "MOfFiveOne = 995 + 5\n",
    "MOfFiveTwo = 995 / 5 * 1 / 2\n",
    "MOfFive = int(MOfFiveOne * MOfFiveTwo)\n",
    "#Sum of multiples of 3:\n",
    "MOfThreeOne = 999 + 3\n",
    "MOfThreeTwoPartOne = math.floor(999/3)\n",
    "MOfThreeTwoPartTwo = MOfThreeTwoPartOne / 2\n",
    "MOfThree = int(MOfThreeOne * MOfThreeTwoPartTwo)\n",
    "#Repeat elimination:\n",
    "n = 1000\n",
    "i = 0\n",
    "allnums = []\n",
    "for i in range(n):\n",
    "    if i % 15 == 0:\n",
    "       allnums.append(i)\n",
    "repeats = sum(allnums)\n",
    "Answer = MOfThree + MOfFive - repeats\n",
    "print(str(Answer))"
   ]
  },
  {
   "cell_type": "code",
   "execution_count": 90,
   "metadata": {},
   "outputs": [
    {
     "name": "stdout",
     "output_type": "stream",
     "text": [
      "4613732\n"
     ]
    }
   ],
   "source": [
    "#Problem 2:\n",
    "x = 1\n",
    "y = 1 \n",
    "i = []\n",
    "Sol = 0\n",
    "for i in range (1,40000):\n",
    "    if x < 4000000 and x % 2 == 0:\n",
    "        Sol += x\n",
    "        x += y\n",
    "        y = x - y\n",
    "    elif x < 4000000 and x % 2 > 0:\n",
    "        x += y\n",
    "        y = x - y\n",
    "    else:\n",
    "        i += Sol\n",
    "print(str(Sol))\n",
    "\n"
   ]
  },
  {
   "cell_type": "code",
   "execution_count": 1,
   "metadata": {},
   "outputs": [
    {
     "name": "stdout",
     "output_type": "stream",
     "text": [
      "6857.0\n"
     ]
    }
   ],
   "source": [
    "#Problem #3\n",
    "import math\n",
    "number = int(600851475143)\n",
    "set = []\n",
    "largestFactorFound = False\n",
    "def findNextFactor(x1): #Find the next largest factor\n",
    "    factorFound = False #Flag variable to check whether a factor has been found\n",
    "    for a in range(2, int(x1)-1):\n",
    "        if x1 % a == 0: #check if a is a factor of x1\n",
    "            return(a)\n",
    "            factorFound = True #prevents the second if condition from being ran\n",
    "            break\n",
    "    if not factorFound:\n",
    "        return(600851475144)\n",
    "while not largestFactorFound:\n",
    "    if findNextFactor(number) != 600851475144:\n",
    "        number = number / findNextFactor(number)\n",
    "    else:\n",
    "        print(number)\n",
    "        largestFactorFound = True"
   ]
  },
  {
   "cell_type": "code",
   "execution_count": 12,
   "metadata": {},
   "outputs": [
    {
     "name": "stdout",
     "output_type": "stream",
     "text": [
      "906609\n"
     ]
    }
   ],
   "source": [
    "#Problem 4\n",
    "import math\n",
    "reverseSection = ''\n",
    "answer = 0\n",
    "for a in range(100, 999):\n",
    "    for b in range(100, 999):\n",
    "        product = a * b\n",
    "        g = math.floor(len(str(product)) / 2)\n",
    "        firstFewNumbers = str(product)[0:g]\n",
    "        lastFewNumbers = str(product)[0 - g:]\n",
    "        reversedLastFewNumbers = lastFewNumbers[::-1]\n",
    "        if int(firstFewNumbers) == int(reversedLastFewNumbers) and product > answer:\n",
    "            answer = product\n",
    "print(answer)"
   ]
  },
  {
   "cell_type": "code",
   "execution_count": 1,
   "metadata": {},
   "outputs": [
    {
     "name": "stdout",
     "output_type": "stream",
     "text": [
      "4782\n"
     ]
    }
   ],
   "source": [
    "#Problem 25\n",
    "x = 1\n",
    "y = 0 \n",
    "i = 0\n",
    "Sol = 0\n",
    "for i in range (1,4000000000):\n",
    "    if len(str(Sol)) < 1000:\n",
    "        Sol += x\n",
    "        x += y\n",
    "        y = x - y\n",
    "    else:\n",
    "        print(str(i + 1)) #add 1 as the starting digit isn't included\n",
    "        break;\n"
   ]
  }
 ],
 "metadata": {
  "kernelspec": {
   "display_name": "Python 3",
   "language": "python",
   "name": "python3"
  },
  "language_info": {
   "codemirror_mode": {
    "name": "ipython",
    "version": 3
   },
   "file_extension": ".py",
   "mimetype": "text/x-python",
   "name": "python",
   "nbconvert_exporter": "python",
   "pygments_lexer": "ipython3",
   "version": "3.9.13"
  },
  "orig_nbformat": 4,
  "vscode": {
   "interpreter": {
    "hash": "c347c8f9a7ef94e4c9e03b4513be7835ed18f45b99a2a817fb579f408b867b16"
   }
  }
 },
 "nbformat": 4,
 "nbformat_minor": 2
}
