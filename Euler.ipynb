{
 "cells": [
  {
   "cell_type": "code",
   "execution_count": 42,
   "metadata": {},
   "outputs": [
    {
     "name": "stdout",
     "output_type": "stream",
     "text": [
      "233168\n"
     ]
    }
   ],
   "source": [
    "#Problem 1:\n",
    "import math\n",
    "#multiples of 5 = 5 + 10 + ... + 995 + 1000\n",
    "#Sum of multiples of 5:\n",
    "MOfFiveOne = 995 + 5\n",
    "MOfFiveTwo = 995 / 5 * 1 / 2\n",
    "MOfFive = int(MOfFiveOne * MOfFiveTwo)\n",
    "#Sum of multiples of 3:\n",
    "MOfThreeOne = 999 + 3\n",
    "MOfThreeTwoPartOne = math.floor(999/3)\n",
    "MOfThreeTwoPartTwo = MOfThreeTwoPartOne / 2\n",
    "MOfThree = int(MOfThreeOne * MOfThreeTwoPartTwo)\n",
    "#Repeat elimination:\n",
    "n = 1000\n",
    "i = 0\n",
    "allnums = []\n",
    "for i in range(n):\n",
    "    if i % 15 == 0:\n",
    "       allnums.append(i)\n",
    "repeats = sum(allnums)\n",
    "Answer = MOfThree + MOfFive - repeats\n",
    "print(str(Answer))"
   ]
  },
  {
   "cell_type": "code",
   "execution_count": 90,
   "metadata": {},
   "outputs": [
    {
     "name": "stdout",
     "output_type": "stream",
     "text": [
      "4613732\n"
     ]
    }
   ],
   "source": [
    "#Problem 2:\n",
    "x = 1\n",
    "y = 1 \n",
    "i = []\n",
    "Sol = 0\n",
    "for i in range (1,40000):\n",
    "    if x < 4000000 and x % 2 == 0:\n",
    "        Sol += x\n",
    "        x += y\n",
    "        y = x - y\n",
    "    elif x < 4000000 and x % 2 > 0:\n",
    "        x += y\n",
    "        y = x - y\n",
    "    else:\n",
    "        i += Sol\n",
    "print(str(Sol))\n",
    "\n",
    "\n"
   ]
  },
  {
   "cell_type": "code",
   "execution_count": 107,
   "metadata": {},
   "outputs": [
    {
     "name": "stdout",
     "output_type": "stream",
     "text": [
      "4782\n"
     ]
    }
   ],
   "source": [
    "#Problem 25\n",
    "x = 1\n",
    "y = 0 \n",
    "i = 0\n",
    "Sol = 0\n",
    "for i in range (1,4000000000):\n",
    "    if len(str(Sol)) < 1000:\n",
    "        Sol += x\n",
    "        x += y\n",
    "        y = x - y\n",
    "    else:\n",
    "        print(str(i + 1)) #add 1 as the starting digit isn't included\n",
    "        break;\n"
   ]
  }
 ],
 "metadata": {
  "kernelspec": {
   "display_name": "Python 3",
   "language": "python",
   "name": "python3"
  },
  "language_info": {
   "codemirror_mode": {
    "name": "ipython",
    "version": 3
   },
   "file_extension": ".py",
   "mimetype": "text/x-python",
   "name": "python",
   "nbconvert_exporter": "python",
   "pygments_lexer": "ipython3",
   "version": "3.9.13"
  },
  "orig_nbformat": 4,
  "vscode": {
   "interpreter": {
    "hash": "c347c8f9a7ef94e4c9e03b4513be7835ed18f45b99a2a817fb579f408b867b16"
   }
  }
 },
 "nbformat": 4,
 "nbformat_minor": 2
}
